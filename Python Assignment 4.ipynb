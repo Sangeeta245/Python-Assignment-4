{
 "cells": [
  {
   "cell_type": "markdown",
   "id": "bc98f8df",
   "metadata": {},
   "source": [
    "### 1.1 Write a Python Program(with class concepts) to find the area of the triangle using the below formula.\n",
    "### area = (s(s-a)(s-b)*(s-c)) ** 0.5 Function to take the length of the sides of triangle from user should be defined in the parentclass and function to calculate the area should be defined in subclass."
   ]
  },
  {
   "cell_type": "code",
   "execution_count": 1,
   "id": "62d436df",
   "metadata": {},
   "outputs": [
    {
     "name": "stdout",
     "output_type": "stream",
     "text": [
      "Enter a length of side i:5\n",
      "Enter a length of side j:7\n",
      "Enter a length of side k:9\n",
      "Area of triangle is 17.41228014936585\n"
     ]
    }
   ],
   "source": [
    "class Triangle:\n",
    "    def __init__(self,i,j,k):\n",
    "        self.i=i\n",
    "        self.j=j\n",
    "        self.k=k\n",
    "    def area(self):\n",
    "        s=(self.i+self.j+self.k)/2\n",
    "        area=(s*(s-self.i)*(s-self.j)*(s-self.k))**0.5\n",
    "        return area\n",
    "    \n",
    "i=float(input(\"Enter a length of side i:\"))\n",
    "j=float(input(\"Enter a length of side j:\"))\n",
    "k=float(input(\"Enter a length of side k:\"))\n",
    "tri=Triangle(i,j,k)\n",
    "\n",
    "print(\"Area of triangle is {}\".format(tri.area()))"
   ]
  },
  {
   "cell_type": "code",
   "execution_count": 2,
   "id": "a2f3aa65",
   "metadata": {},
   "outputs": [
    {
     "name": "stdout",
     "output_type": "stream",
     "text": [
      "Enter a value for n:-4\n",
      "List of words longer than 4\n",
      "['ukraine', 'bachao', 'russia']\n"
     ]
    }
   ],
   "source": [
    "def filter_long_word(list_1,n):\n",
    "    list_2=[]\n",
    "    for i in range(0,len(list_1)):\n",
    "        if len(list_1[i])>n:\n",
    "            list_2.append(list_1[i])\n",
    "    return list_2\n",
    "list_3=['ukraine','ko','bachao','from',\"russia\"]\n",
    "n=int(input(\"Enter a value for n:-\"))\n",
    "lst=filter_long_word(list_3,n)\n",
    "print(\"List of words longer than {}\".format(n))\n",
    "print(lst)"
   ]
  },
  {
   "cell_type": "markdown",
   "id": "e554f2e7",
   "metadata": {},
   "source": [
    "### 2.1  Write a Python program using function concept that maps list of words into a list of integers representing the lengths of the corresponding words.Hint: If a list [ ab,cde,erty] is passed on to the python function output should come as [2,3,4] Here 2,3 and 4 are the lengths of the words in the list."
   ]
  },
  {
   "cell_type": "code",
   "execution_count": 3,
   "id": "f3d41247",
   "metadata": {},
   "outputs": [
    {
     "name": "stdout",
     "output_type": "stream",
     "text": [
      "[2, 3, 4]\n"
     ]
    }
   ],
   "source": [
    "def find_len(list_1):\n",
    "    new_list=[]\n",
    "    for i in range (0,len(list_1)):\n",
    "        new_list.append(len(list_1[i]))\n",
    "    return new_list\n",
    "list_2=['ab','cde','erty']\n",
    "len_lst=find_len(list_2)\n",
    "print(len_lst)"
   ]
  },
  {
   "cell_type": "markdown",
   "id": "582ce683",
   "metadata": {},
   "source": [
    "### 2.2 Write a Python function which takes a character (i.e. a string of length 1) and returns True if it is a vowel, False otherwise."
   ]
  },
  {
   "cell_type": "code",
   "execution_count": 4,
   "id": "907886a1",
   "metadata": {},
   "outputs": [
    {
     "name": "stdout",
     "output_type": "stream",
     "text": [
      "True\n",
      "False\n",
      "Type only one letter\n",
      "None\n"
     ]
    }
   ],
   "source": [
    "def vowel(x):\n",
    "    if len(x)==1:\n",
    "        if x in ('a','e','i','o','u','A','E','I','O','U'):\n",
    "            return True \n",
    "        else:\n",
    "            return False\n",
    "    else:\n",
    "        print('Type only one letter')\n",
    "    \n",
    "print(vowel('a'))\n",
    "print(vowel('s'))\n",
    "print(vowel('as'))"
   ]
  }
 ],
 "metadata": {
  "kernelspec": {
   "display_name": "Python 3",
   "language": "python",
   "name": "python3"
  },
  "language_info": {
   "codemirror_mode": {
    "name": "ipython",
    "version": 3
   },
   "file_extension": ".py",
   "mimetype": "text/x-python",
   "name": "python",
   "nbconvert_exporter": "python",
   "pygments_lexer": "ipython3",
   "version": "3.8.8"
  }
 },
 "nbformat": 4,
 "nbformat_minor": 5
}
